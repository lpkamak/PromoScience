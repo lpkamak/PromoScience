{
  "nbformat": 4,
  "nbformat_minor": 0,
  "metadata": {
    "kernelspec": {
      "display_name": "Python 3",
      "language": "python",
      "name": "python3"
    },
    "language_info": {
      "codemirror_mode": {
        "name": "ipython",
        "version": 3
      },
      "file_extension": ".py",
      "mimetype": "text/x-python",
      "name": "python",
      "nbconvert_exporter": "python",
      "pygments_lexer": "ipython3",
      "version": "3.8.5"
    },
    "colab": {
      "name": "Lab Exercise 2 - Storytelling using Variables.ipynb",
      "provenance": [],
      "collapsed_sections": []
    }
  },
  "cells": [
    {
      "cell_type": "markdown",
      "metadata": {
        "id": "RrbrrYzZglLl"
      },
      "source": [
        "# **Storytelling using Variables**"
      ]
    },
    {
      "cell_type": "markdown",
      "metadata": {
        "id": "WY448Yzn_rvi"
      },
      "source": [
        "# Activity :\n",
        "\n",
        "Can you list the steps to write your own story book !"
      ]
    },
    {
      "cell_type": "markdown",
      "metadata": {
        "id": "WOQ1FxCH18AV"
      },
      "source": [
        "#IPO - Input Process Output Approach\n",
        "\n",
        "An input is data that a computer receives. An output is data that a computer sends.\n",
        "\n",
        "* INPUT : Variable\n",
        "* PROCESS : random()\n",
        "* OUTPUT : print()\n",
        "\n",
        "\n",
        "\n",
        "\n"
      ]
    },
    {
      "cell_type": "markdown",
      "metadata": {
        "id": "HGoiVDEo1lMG"
      },
      "source": [
        "![p025ftw6.jpg](data:image/jpeg;base64,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)  \n",
        "Fig 1 : https://www.bbc.co.uk/bitesize/topics/zf2f9j6/articles/zx8hpv4\n",
        "\n",
        "The input device in this picture is the remote control. You press 'play', the DVD player processes the information and a film is output on the TV.\n"
      ]
    },
    {
      "cell_type": "code",
      "metadata": {
        "id": "A6A-wQ9IzDrO"
      },
      "source": [
        "#Storytelling using variables\n",
        "\n",
        "#random library - It can be used perform some action randomly such as to get a random number,\n",
        "#selecting a random elements from a list, shuffle elements randomly\n",
        "import random"
      ],
      "execution_count": null,
      "outputs": []
    },
    {
      "cell_type": "code",
      "metadata": {
        "colab": {
          "base_uri": "https://localhost:8080/"
        },
        "id": "xpwjJUCizDrR",
        "outputId": "4a04cfba-1752-41fd-ae81-99aa37e10df7"
      },
      "source": [
        "# Collect the author's name\n",
        "print(\"Welcome to Your Random Story.\")\n",
        "\n",
        "author = input(\"What's your name?\")\n",
        "\n",
        "print(\"Hi, \" + author)\n"
      ],
      "execution_count": null,
      "outputs": [
        {
          "output_type": "stream",
          "text": [
            "Welcome to Your Random Story.\n",
            "What's your name?Lisa\n",
            "Hi, Lisa\n"
          ],
          "name": "stdout"
        }
      ]
    },
    {
      "cell_type": "code",
      "metadata": {
        "id": "BbHrmh3kzDrT"
      },
      "source": [
        "#Using Variables we can substitue the values in the code\n",
        "\n",
        "when = ['A few years ago', 'Yesterday', 'Last night', 'A long time ago']\n",
        "who = ['a rabbit', 'an elephant', 'a mouse', 'a turtle','a moose']\n",
        "name = ['Ali', 'Miriam', 'Hoouk', 'Starwalker']\n",
        "place = ['Winnipeg', 'Toronto', 'Montreal', 'Thunder Bay','Canada']\n",
        "went = ['cinema', 'university', 'school', 'laundry' ,'farm']\n",
        "happened = ['made a lot of friends', 'found a secret key', 'solved a mistery', 'wrote a book']"
      ],
      "execution_count": null,
      "outputs": []
    },
    {
      "cell_type": "code",
      "metadata": {
        "colab": {
          "base_uri": "https://localhost:8080/"
        },
        "id": "gfA4JZAozDrU",
        "outputId": "f72812ab-fa77-4f71-d2a2-c3bfde363467"
      },
      "source": [
        "print( random.choice(when) + ', ' + random.choice(who) + ' that lived in ' + random.choice(place) + ', went to the ' + random.choice(went) + ' and ' + random.choice(happened));\n",
        "print( 'Generated by:'+ author);"
      ],
      "execution_count": null,
      "outputs": [
        {
          "output_type": "stream",
          "text": [
            "Last night, a turtle that lived in Canada, went to the university and solved a mistery\n",
            "Generated by:Lisa\n"
          ],
          "name": "stdout"
        }
      ]
    },
    {
      "cell_type": "markdown",
      "metadata": {
        "id": "WihRy8QMgdx5"
      },
      "source": [
        "#Activity : \n",
        "Come up with your own list of variables and submit to the teacher to create a short story"
      ]
    }
  ]
}