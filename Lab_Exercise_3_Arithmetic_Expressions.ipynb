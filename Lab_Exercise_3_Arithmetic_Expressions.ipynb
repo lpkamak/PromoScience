{
  "nbformat": 4,
  "nbformat_minor": 0,
  "metadata": {
    "colab": {
      "name": "Lab Exercise 3 - Arithmetic Expressions.ipynb",
      "provenance": [],
      "collapsed_sections": []
    },
    "kernelspec": {
      "name": "python3",
      "display_name": "Python 3"
    },
    "language_info": {
      "name": "python"
    }
  },
  "cells": [
    {
      "cell_type": "markdown",
      "metadata": {
        "id": "GrF8CnhQs3Hx"
      },
      "source": [
        "# **Order of Operations**\n",
        "\n",
        "Now lets try someting a bit more complex , Multiplication and division have a higher order than addition and subtraction, which means that they’re performed first.` 5 + 10 * 2`"
      ]
    },
    {
      "cell_type": "code",
      "metadata": {
        "colab": {
          "base_uri": "https://localhost:8080/"
        },
        "id": "ffYTofX8s1_D",
        "outputId": "800d011a-deaa-4ace-d9e5-af2411c39531"
      },
      "source": [
        "5 + 10 * 2"
      ],
      "execution_count": null,
      "outputs": [
        {
          "output_type": "execute_result",
          "data": {
            "text/plain": [
              "605"
            ]
          },
          "metadata": {},
          "execution_count": 1
        }
      ]
    },
    {
      "cell_type": "markdown",
      "metadata": {
        "id": "Ft5DMB39scHc"
      },
      "source": [
        "Also , We can change the order of operations by adding parentheses\n",
        "`(5 + 30) * 20 `"
      ]
    },
    {
      "cell_type": "code",
      "metadata": {
        "id": "z-dN6e0RsbP-",
        "colab": {
          "base_uri": "https://localhost:8080/"
        },
        "outputId": "4e16997e-c6c2-46ec-aadb-17386f3a8302"
      },
      "source": [
        "(5 + 10) * 2\n",
        "#Simple numbers , Comments , Whole Program in terminal / runtime"
      ],
      "execution_count": null,
      "outputs": [
        {
          "output_type": "execute_result",
          "data": {
            "text/plain": [
              "30"
            ]
          },
          "metadata": {},
          "execution_count": 8
        }
      ]
    },
    {
      "cell_type": "markdown",
      "metadata": {
        "id": "swmKOKqFsnYw"
      },
      "source": [
        "Parentheses can be nested, which means that there can be parentheses inside parentheses, like this: \n",
        " `((5 + 30) * 20) / 10 `\n",
        " \n",
        "In this case, Python evaluates the innermost parentheses first, then the outer ones. "
      ]
    },
    {
      "cell_type": "code",
      "metadata": {
        "id": "C66QGcqdsn65",
        "colab": {
          "base_uri": "https://localhost:8080/"
        },
        "outputId": "959dd199-b37c-4d0b-98c4-ac0437fbc146"
      },
      "source": [
        "((5 + 30) * 20) / 10\n",
        "(5 + 30)\n",
        "((35) * 20)\n",
        "700/10"
      ],
      "execution_count": null,
      "outputs": [
        {
          "output_type": "execute_result",
          "data": {
            "text/plain": [
              "70.0"
            ]
          },
          "metadata": {},
          "execution_count": 6
        }
      ]
    },
    {
      "cell_type": "markdown",
      "metadata": {
        "id": "usvdB5IXs-Xc"
      },
      "source": [
        "\n",
        "If we had not used parentheses, the result would be different:\n",
        " `5 + 30 * 20 / 10 `"
      ]
    },
    {
      "cell_type": "code",
      "metadata": {
        "id": "MWqurrpGtG16",
        "colab": {
          "base_uri": "https://localhost:8080/"
        },
        "outputId": "72514431-55d4-4e95-9401-6e19049625d5"
      },
      "source": [
        "5 + 30 * 20 / 10"
      ],
      "execution_count": null,
      "outputs": [
        {
          "output_type": "execute_result",
          "data": {
            "text/plain": [
              "65.0"
            ]
          },
          "metadata": {},
          "execution_count": 7
        }
      ]
    }
  ]
}